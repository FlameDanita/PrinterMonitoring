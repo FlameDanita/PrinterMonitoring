{
 "cells": [
  {
   "cell_type": "code",
   "execution_count": 1,
   "metadata": {},
   "outputs": [],
   "source": [
    "import os\n",
    "import subprocess\n",
    "import pandas as pd #pip install pandas\n",
    "import xlwt #pip install xlwt\n",
    "from openpyxl import load_workbook #pip install openpyxldd\n",
    "from tqdm import tqdm\n",
    "import datetime"
   ]
  },
  {
   "cell_type": "code",
   "execution_count": 2,
   "metadata": {},
   "outputs": [],
   "source": [
    "snmp_dir = \"C:/Users/Никита Широкопетлев/Documents/SnmpGet/\"\n",
    "def get_IOD(wb, ser):\n",
    "    IOD = {}\n",
    "    work_sheet_IOD = wb['IOD']\n",
    "    flag = False\n",
    "    counter = 0\n",
    "    for rows in work_sheet_IOD.iter_rows(values_only=True):\n",
    "        if rows[2] == ser[:2] and flag == False:\n",
    "            #print('Модель:', rows[1])\n",
    "            flag = True\n",
    "        elif flag == True and counter < 9:\n",
    "            if rows[0] and rows[0] != 'Модель':\n",
    "                IOD[rows[0]] = rows[1]\n",
    "            counter += 1\n",
    "    return IOD\n",
    "\n",
    "def search_cell(name_cell, work_sheet):\n",
    "    for cell in range(1, 100):\n",
    "        if work_sheet.cell(row = 1, column = cell).value == name_cell:\n",
    "            break\n",
    "    print('Столбец \"', name_cell, '\": ', cell, sep = '')\n",
    "    return cell"
   ]
  },
  {
   "cell_type": "code",
   "execution_count": 3,
   "metadata": {},
   "outputs": [
    {
     "ename": "FileNotFoundError",
     "evalue": "[Errno 2] No such file or directory: './printers_v2.xlsx'",
     "output_type": "error",
     "traceback": [
      "\u001b[1;31m---------------------------------------------------------------------------\u001b[0m",
      "\u001b[1;31mFileNotFoundError\u001b[0m                         Traceback (most recent call last)",
      "\u001b[1;32mc:\\Users\\Никита Широкопетлев\\Documents\\GitHub\\PrinterMonitoring\\refresh_printer.ipynb Ячейка 3\u001b[0m in \u001b[0;36m<cell line: 1>\u001b[1;34m()\u001b[0m\n\u001b[1;32m----> <a href='vscode-notebook-cell:/c%3A/Users/%D0%9D%D0%B8%D0%BA%D0%B8%D1%82%D0%B0%20%D0%A8%D0%B8%D1%80%D0%BE%D0%BA%D0%BE%D0%BF%D0%B5%D1%82%D0%BB%D0%B5%D0%B2/Documents/GitHub/PrinterMonitoring/refresh_printer.ipynb#W2sZmlsZQ%3D%3D?line=0'>1</a>\u001b[0m wb \u001b[39m=\u001b[39m load_workbook(\u001b[39m'\u001b[39;49m\u001b[39m./printers_v2.xlsx\u001b[39;49m\u001b[39m'\u001b[39;49m)\n\u001b[0;32m      <a href='vscode-notebook-cell:/c%3A/Users/%D0%9D%D0%B8%D0%BA%D0%B8%D1%82%D0%B0%20%D0%A8%D0%B8%D1%80%D0%BE%D0%BA%D0%BE%D0%BF%D0%B5%D1%82%D0%BB%D0%B5%D0%B2/Documents/GitHub/PrinterMonitoring/refresh_printer.ipynb#W2sZmlsZQ%3D%3D?line=1'>2</a>\u001b[0m \u001b[39mprint\u001b[39m(wb\u001b[39m.\u001b[39msheetnames)\n\u001b[0;32m      <a href='vscode-notebook-cell:/c%3A/Users/%D0%9D%D0%B8%D0%BA%D0%B8%D1%82%D0%B0%20%D0%A8%D0%B8%D1%80%D0%BE%D0%BA%D0%BE%D0%BF%D0%B5%D1%82%D0%BB%D0%B5%D0%B2/Documents/GitHub/PrinterMonitoring/refresh_printer.ipynb#W2sZmlsZQ%3D%3D?line=2'>3</a>\u001b[0m work_sheet \u001b[39m=\u001b[39m wb[\u001b[39m'\u001b[39m\u001b[39mMAIN\u001b[39m\u001b[39m'\u001b[39m]\n",
      "File \u001b[1;32mc:\\Users\\Никита Широкопетлев\\AppData\\Local\\Programs\\Python\\Python310\\lib\\site-packages\\openpyxl\\reader\\excel.py:315\u001b[0m, in \u001b[0;36mload_workbook\u001b[1;34m(filename, read_only, keep_vba, data_only, keep_links)\u001b[0m\n\u001b[0;32m    288\u001b[0m \u001b[39mdef\u001b[39;00m \u001b[39mload_workbook\u001b[39m(filename, read_only\u001b[39m=\u001b[39m\u001b[39mFalse\u001b[39;00m, keep_vba\u001b[39m=\u001b[39mKEEP_VBA,\n\u001b[0;32m    289\u001b[0m                   data_only\u001b[39m=\u001b[39m\u001b[39mFalse\u001b[39;00m, keep_links\u001b[39m=\u001b[39m\u001b[39mTrue\u001b[39;00m):\n\u001b[0;32m    290\u001b[0m     \u001b[39m\"\"\"Open the given filename and return the workbook\u001b[39;00m\n\u001b[0;32m    291\u001b[0m \n\u001b[0;32m    292\u001b[0m \u001b[39m    :param filename: the path to open or a file-like object\u001b[39;00m\n\u001b[1;32m   (...)\u001b[0m\n\u001b[0;32m    313\u001b[0m \n\u001b[0;32m    314\u001b[0m \u001b[39m    \"\"\"\u001b[39;00m\n\u001b[1;32m--> 315\u001b[0m     reader \u001b[39m=\u001b[39m ExcelReader(filename, read_only, keep_vba,\n\u001b[0;32m    316\u001b[0m                         data_only, keep_links)\n\u001b[0;32m    317\u001b[0m     reader\u001b[39m.\u001b[39mread()\n\u001b[0;32m    318\u001b[0m     \u001b[39mreturn\u001b[39;00m reader\u001b[39m.\u001b[39mwb\n",
      "File \u001b[1;32mc:\\Users\\Никита Широкопетлев\\AppData\\Local\\Programs\\Python\\Python310\\lib\\site-packages\\openpyxl\\reader\\excel.py:124\u001b[0m, in \u001b[0;36mExcelReader.__init__\u001b[1;34m(self, fn, read_only, keep_vba, data_only, keep_links)\u001b[0m\n\u001b[0;32m    122\u001b[0m \u001b[39mdef\u001b[39;00m \u001b[39m__init__\u001b[39m(\u001b[39mself\u001b[39m,  fn, read_only\u001b[39m=\u001b[39m\u001b[39mFalse\u001b[39;00m, keep_vba\u001b[39m=\u001b[39mKEEP_VBA,\n\u001b[0;32m    123\u001b[0m               data_only\u001b[39m=\u001b[39m\u001b[39mFalse\u001b[39;00m, keep_links\u001b[39m=\u001b[39m\u001b[39mTrue\u001b[39;00m):\n\u001b[1;32m--> 124\u001b[0m     \u001b[39mself\u001b[39m\u001b[39m.\u001b[39marchive \u001b[39m=\u001b[39m _validate_archive(fn)\n\u001b[0;32m    125\u001b[0m     \u001b[39mself\u001b[39m\u001b[39m.\u001b[39mvalid_files \u001b[39m=\u001b[39m \u001b[39mself\u001b[39m\u001b[39m.\u001b[39marchive\u001b[39m.\u001b[39mnamelist()\n\u001b[0;32m    126\u001b[0m     \u001b[39mself\u001b[39m\u001b[39m.\u001b[39mread_only \u001b[39m=\u001b[39m read_only\n",
      "File \u001b[1;32mc:\\Users\\Никита Широкопетлев\\AppData\\Local\\Programs\\Python\\Python310\\lib\\site-packages\\openpyxl\\reader\\excel.py:96\u001b[0m, in \u001b[0;36m_validate_archive\u001b[1;34m(filename)\u001b[0m\n\u001b[0;32m     89\u001b[0m             msg \u001b[39m=\u001b[39m (\u001b[39m'\u001b[39m\u001b[39mopenpyxl does not support \u001b[39m\u001b[39m%s\u001b[39;00m\u001b[39m file format, \u001b[39m\u001b[39m'\u001b[39m\n\u001b[0;32m     90\u001b[0m                    \u001b[39m'\u001b[39m\u001b[39mplease check you can open \u001b[39m\u001b[39m'\u001b[39m\n\u001b[0;32m     91\u001b[0m                    \u001b[39m'\u001b[39m\u001b[39mit with Excel first. \u001b[39m\u001b[39m'\u001b[39m\n\u001b[0;32m     92\u001b[0m                    \u001b[39m'\u001b[39m\u001b[39mSupported formats are: \u001b[39m\u001b[39m%s\u001b[39;00m\u001b[39m'\u001b[39m) \u001b[39m%\u001b[39m (file_format,\n\u001b[0;32m     93\u001b[0m                                                    \u001b[39m'\u001b[39m\u001b[39m,\u001b[39m\u001b[39m'\u001b[39m\u001b[39m.\u001b[39mjoin(SUPPORTED_FORMATS))\n\u001b[0;32m     94\u001b[0m         \u001b[39mraise\u001b[39;00m InvalidFileException(msg)\n\u001b[1;32m---> 96\u001b[0m archive \u001b[39m=\u001b[39m ZipFile(filename, \u001b[39m'\u001b[39;49m\u001b[39mr\u001b[39;49m\u001b[39m'\u001b[39;49m)\n\u001b[0;32m     97\u001b[0m \u001b[39mreturn\u001b[39;00m archive\n",
      "File \u001b[1;32mc:\\Users\\Никита Широкопетлев\\AppData\\Local\\Programs\\Python\\Python310\\lib\\zipfile.py:1249\u001b[0m, in \u001b[0;36mZipFile.__init__\u001b[1;34m(self, file, mode, compression, allowZip64, compresslevel, strict_timestamps)\u001b[0m\n\u001b[0;32m   1247\u001b[0m \u001b[39mwhile\u001b[39;00m \u001b[39mTrue\u001b[39;00m:\n\u001b[0;32m   1248\u001b[0m     \u001b[39mtry\u001b[39;00m:\n\u001b[1;32m-> 1249\u001b[0m         \u001b[39mself\u001b[39m\u001b[39m.\u001b[39mfp \u001b[39m=\u001b[39m io\u001b[39m.\u001b[39;49mopen(file, filemode)\n\u001b[0;32m   1250\u001b[0m     \u001b[39mexcept\u001b[39;00m \u001b[39mOSError\u001b[39;00m:\n\u001b[0;32m   1251\u001b[0m         \u001b[39mif\u001b[39;00m filemode \u001b[39min\u001b[39;00m modeDict:\n",
      "\u001b[1;31mFileNotFoundError\u001b[0m: [Errno 2] No such file or directory: './printers_v2.xlsx'"
     ]
    }
   ],
   "source": [
    "wb = load_workbook('./printers_v2.xlsx')\n",
    "print(wb.sheetnames)\n",
    "work_sheet = wb['MAIN']\n",
    "cell_ser = search_cell('Серийный номер', work_sheet) - 1\n",
    "cell_IP = search_cell('IP', work_sheet) - 1\n",
    "\n",
    "printer = 'AL75023437'"
   ]
  },
  {
   "cell_type": "code",
   "execution_count": 6,
   "metadata": {},
   "outputs": [
    {
     "name": "stderr",
     "output_type": "stream",
     "text": [
      "13it [00:00, 81.50it/s]\n"
     ]
    }
   ],
   "source": [
    "start_row = 2\n",
    "for row in tqdm(work_sheet.iter_rows(min_row=2, values_only=True)):\n",
    "    if row[cell_ser] == printer:\n",
    "        try:\n",
    "            IOD = get_IOD(wb, ser=row[cell_ser])\n",
    "            #print(IOD)\n",
    "            for key, value in IOD.items():\n",
    "                res = subprocess.check_output(snmp_dir + \"SnmpGet.exe -r:\" + str(row[cell_IP]) + \n",
    "                                      ' -o:' + value).decode(\"cp866\").split('\\n')\n",
    "                \n",
    "                IOD[key] = str(res[-2].split('=')[-1]).strip('\\r')\n",
    "            #print(IOD)\n",
    "\n",
    "            work_sheet_pr = wb[IOD['Серийный номер принтера']]\n",
    "            cur_row = 1\n",
    "            flag = False\n",
    "            for row_pr in work_sheet_pr.iter_rows(values_only=True):\n",
    "                if row_pr[0] in IOD:\n",
    "                    try:\n",
    "                        work_sheet_pr.cell(row=cur_row, column=2).value = int(IOD[row_pr[0]])\n",
    "                    except:\n",
    "                        work_sheet_pr.cell(row=cur_row, column=2).value = IOD[row_pr[0]]\n",
    "            \n",
    "                if row_pr[0] == 'Дата проверки':\n",
    "                    work_sheet_pr.cell(row=cur_row, column=2).value = datetime.datetime.now()\n",
    "\n",
    "                if flag and not row_pr[0]:\n",
    "                    work_sheet_pr.cell(row=cur_row, column=1).value = str(datetime.datetime.now().strftime(\"%d.%m.%y %H:%M\"))\n",
    "                    work_sheet_pr.cell(row=cur_row, column=2).value = int(IOD['Оставшееся число копий тонера'])/int(IOD['Максимальное число копий тонера'])\n",
    "                    work_sheet_pr.cell(row=cur_row, column=3).value = int(IOD['Кол-во напечатанных страниц'])\n",
    "                    flag = False\n",
    "\n",
    "                if row_pr[0] == 'Дата':\n",
    "                    flag = True\n",
    "    \n",
    "                cur_row += 1\n",
    "        except:\n",
    "            print(IOD)\n",
    "            print(\"Printer\", row[1], 'failed')\n"
   ]
  },
  {
   "cell_type": "code",
   "execution_count": 7,
   "metadata": {},
   "outputs": [],
   "source": [
    "wb.save('./printer_test.xlsx')"
   ]
  },
  {
   "cell_type": "code",
   "execution_count": 15,
   "metadata": {},
   "outputs": [
    {
     "name": "stdout",
     "output_type": "stream",
     "text": [
      "01.08.22 17:26\n"
     ]
    }
   ],
   "source": [
    "print(datetime.datetime.now().strftime(\"%d.%m.%y %H:%M\"))"
   ]
  },
  {
   "cell_type": "code",
   "execution_count": null,
   "metadata": {},
   "outputs": [],
   "source": []
  }
 ],
 "metadata": {
  "kernelspec": {
   "display_name": "Python 3.10.5 64-bit (system)",
   "language": "python",
   "name": "python3"
  },
  "language_info": {
   "codemirror_mode": {
    "name": "ipython",
    "version": 3
   },
   "file_extension": ".py",
   "mimetype": "text/x-python",
   "name": "python",
   "nbconvert_exporter": "python",
   "pygments_lexer": "ipython3",
   "version": "3.10.5"
  },
  "orig_nbformat": 4,
  "vscode": {
   "interpreter": {
    "hash": "fd9daab5493c977fd6493be97d3e1f014be2bb979bfc5090355e6764feda3d70"
   }
  }
 },
 "nbformat": 4,
 "nbformat_minor": 2
}
