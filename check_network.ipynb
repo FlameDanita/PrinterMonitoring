{
 "cells": [
  {
   "cell_type": "code",
   "execution_count": 1,
   "metadata": {},
   "outputs": [],
   "source": [
    "import os\n",
    "import subprocess\n",
    "import pandas as pd #pip install pandas\n",
    "import xlwt #pip install xlwt\n",
    "from openpyxl import load_workbook #pip install openpyxldd\n",
    "from tqdm import tqdm\n",
    "import datetime"
   ]
  },
  {
   "cell_type": "markdown",
   "metadata": {},
   "source": [
    "**IP-пространство:**  \n",
    "10.2.124.1-10.2.127.254"
   ]
  },
  {
   "cell_type": "code",
   "execution_count": null,
   "metadata": {},
   "outputs": [],
   "source": [
    "snmp_dir = \"C:/Users/Никита Широкопетлев/Documents/SnmpGet/\"\n",
    "diap_3 = [str(i) for i in range(124, 128)]\n",
    "diap_4 = [str(i) for i in range(1, 255)]\n",
    "for i in diap_3:\n",
    "    for j in diap_4:\n",
    "        IP = '10.2.' + i + '.' + j\n",
    "        try:\n",
    "            response = subprocess.check_output(\"ping \" + IP)\n",
    "            #print(response.decode(\"cp866\"))\n",
    "            print('IP:', IP, 'доступен')\n",
    "            res = subprocess.check_output(snmp_dir + \"SnmpGet.exe -r:\" + IP + \n",
    "                    ' -o:' + '1.3.6.1.2.1.43.5.1.1.17.1').decode(\"cp866\").split('\\n')\n",
    "                \n",
    "            print(str(res[-2].split('=')[-1]).strip('\\r'))\n",
    "        except:\n",
    "            print('IP:', IP, 'не доступен')\n",
    "        "
   ]
  },
  {
   "cell_type": "code",
   "execution_count": 11,
   "metadata": {},
   "outputs": [
    {
     "name": "stdout",
     "output_type": "stream",
     "text": [
      "IP: 10.2.125.10 не доступен\n"
     ]
    }
   ],
   "source": [
    "snmp_dir = \"C:/Users/Никита Широкопетлев/Documents/SnmpGet/\"\n",
    "IP = '10.2.125.10'\n",
    "try:\n",
    "    response = subprocess.check_output(\"ping \" + IP)\n",
    "    #print(response.decode(\"cp866\"))\n",
    "    print('IP:', IP, 'доступен')\n",
    "    res = subprocess.check_output(snmp_dir + \"SnmpGet.exe -r:\" + IP + \n",
    "                    ' -o:' + '1.3.6.1.2.1.43.10.2.1.4.1.1').decode(\"cp866\").split('\\n')\n",
    "                \n",
    "    print(str(res[-2].split('=')[-1]).strip('\\r'))\n",
    "except:\n",
    "    print('IP:', IP, 'не доступен')\n",
    "        "
   ]
  },
  {
   "cell_type": "code",
   "execution_count": 14,
   "metadata": {},
   "outputs": [
    {
     "name": "stdout",
     "output_type": "stream",
     "text": [
      "%Failed to get value of SNMP variable. Timeout.\n"
     ]
    }
   ],
   "source": [
    "res = subprocess.check_output(snmp_dir + \"SnmpGet.exe -r:\" + '10.2.126.149' + \n",
    "                    ' -o:' + '1.3.6.1.2.1.43.5.1.1.17.1').decode(\"cp866\").split('\\n')\n",
    "                \n",
    "print(str(res[-2].split('=')[-1]).strip('\\r'))"
   ]
  },
  {
   "cell_type": "code",
   "execution_count": null,
   "metadata": {},
   "outputs": [],
   "source": [
    "\n",
    "import subprocess\n",
    "  \n",
    "for ping in range(1,255):\n",
    "    address = \"10.2.124.\" + str(ping)\n",
    "    res = subprocess.call(['ping', '-c', '3', address])\n",
    "    if res == 0:\n",
    "        print( \"ping to\", address, \"OK\")\n",
    "    elif res == 2:\n",
    "        print(\"no response from\", address)\n",
    "    else:\n",
    "        print(\"ping to\", address, \"failed!\")"
   ]
  },
  {
   "cell_type": "code",
   "execution_count": null,
   "metadata": {},
   "outputs": [],
   "source": [
    "import urllib2\n",
    "\n",
    "def internet_on():\n",
    "    try:\n",
    "        urllib2.urlopen('http://216.58.192.142', timeout=1)\n",
    "        return True\n",
    "    except urllib2.URLError as err: \n",
    "        return False"
   ]
  },
  {
   "cell_type": "code",
   "execution_count": null,
   "metadata": {},
   "outputs": [],
   "source": [
    "snmp_dir = \"C:/Users/Никита Широкопетлев/Documents/SnmpGet/\"\n",
    "def get_IOD(wb, ser):\n",
    "    IOD = {}\n",
    "    work_sheet_IOD = wb['IOD']\n",
    "    flag = False\n",
    "    counter = 0\n",
    "    for rows in work_sheet_IOD.iter_rows(values_only=True):\n",
    "        if rows[2] == ser[:2] and flag == False:\n",
    "            #print('Модель:', rows[1])\n",
    "            flag = True\n",
    "        elif flag == True and counter < 9:\n",
    "            if rows[0] and rows[0] != 'Модель':\n",
    "                IOD[rows[0]] = rows[1]\n",
    "            counter += 1\n",
    "    return IOD\n",
    "\n",
    "def search_cell(name_cell, work_sheet):\n",
    "    for cell in range(1, 100):\n",
    "        if work_sheet.cell(row = 1, column = cell).value == name_cell:\n",
    "            break\n",
    "    print('Столбец \"', name_cell, '\": ', cell, sep = '')\n",
    "    return cell"
   ]
  },
  {
   "cell_type": "code",
   "execution_count": null,
   "metadata": {},
   "outputs": [],
   "source": [
    "wb = load_workbook('./printers_v2.xlsx')\n",
    "print(wb.sheetnames)\n",
    "work_sheet = wb['MAIN']\n",
    "cell_ser = search_cell('Серийный номер', work_sheet) - 1\n",
    "cell_IP = search_cell('IP', work_sheet) - 1\n",
    "\n",
    "printer = 'AL75023437'"
   ]
  },
  {
   "cell_type": "code",
   "execution_count": null,
   "metadata": {},
   "outputs": [],
   "source": [
    "start_row = 2\n",
    "for row in tqdm(work_sheet.iter_rows(min_row=2, values_only=True)):\n",
    "    if row[cell_ser] == printer:\n",
    "        try:\n",
    "            IOD = get_IOD(wb, ser=row[cell_ser])\n",
    "            #print(IOD)\n",
    "            for key, value in IOD.items():\n",
    "                res = subprocess.check_output(snmp_dir + \"SnmpGet.exe -r:\" + str(row[cell_IP]) + \n",
    "                                      ' -o:' + value).decode(\"cp866\").split('\\n')\n",
    "                \n",
    "                IOD[key] = str(res[-2].split('=')[-1]).strip('\\r')\n",
    "            #print(IOD)\n",
    "\n",
    "            work_sheet_pr = wb[IOD['Серийный номер принтера']]\n",
    "            cur_row = 1\n",
    "            flag = False\n",
    "            for row_pr in work_sheet_pr.iter_rows(values_only=True):\n",
    "                if row_pr[0] in IOD:\n",
    "                    try:\n",
    "                        work_sheet_pr.cell(row=cur_row, column=2).value = int(IOD[row_pr[0]])\n",
    "                    except:\n",
    "                        work_sheet_pr.cell(row=cur_row, column=2).value = IOD[row_pr[0]]\n",
    "            \n",
    "                if row_pr[0] == 'Дата проверки':\n",
    "                    work_sheet_pr.cell(row=cur_row, column=2).value = datetime.datetime.now()\n",
    "\n",
    "                if flag and not row_pr[0]:\n",
    "                    work_sheet_pr.cell(row=cur_row, column=1).value = str(datetime.datetime.now().strftime(\"%d.%m.%y %H:%M\"))\n",
    "                    work_sheet_pr.cell(row=cur_row, column=2).value = int(IOD['Оставшееся число копий тонера'])/int(IOD['Максимальное число копий тонера'])\n",
    "                    work_sheet_pr.cell(row=cur_row, column=3).value = int(IOD['Кол-во напечатанных страниц'])\n",
    "                    flag = False\n",
    "\n",
    "                if row_pr[0] == 'Дата':\n",
    "                    flag = True\n",
    "    \n",
    "                cur_row += 1\n",
    "        except:\n",
    "            print(IOD)\n",
    "            print(\"Printer\", row[1], 'failed')\n"
   ]
  },
  {
   "cell_type": "code",
   "execution_count": null,
   "metadata": {},
   "outputs": [],
   "source": [
    "wb.save('./printer_test.xlsx')"
   ]
  },
  {
   "cell_type": "code",
   "execution_count": null,
   "metadata": {},
   "outputs": [],
   "source": [
    "print(datetime.datetime.now().strftime(\"%d.%m.%y %H:%M\"))"
   ]
  },
  {
   "cell_type": "code",
   "execution_count": null,
   "metadata": {},
   "outputs": [],
   "source": []
  }
 ],
 "metadata": {
  "kernelspec": {
   "display_name": "Python 3.10.5 64-bit (system)",
   "language": "python",
   "name": "python3"
  },
  "language_info": {
   "codemirror_mode": {
    "name": "ipython",
    "version": 3
   },
   "file_extension": ".py",
   "mimetype": "text/x-python",
   "name": "python",
   "nbconvert_exporter": "python",
   "pygments_lexer": "ipython3",
   "version": "3.10.5"
  },
  "orig_nbformat": 4,
  "vscode": {
   "interpreter": {
    "hash": "fd9daab5493c977fd6493be97d3e1f014be2bb979bfc5090355e6764feda3d70"
   }
  }
 },
 "nbformat": 4,
 "nbformat_minor": 2
}
