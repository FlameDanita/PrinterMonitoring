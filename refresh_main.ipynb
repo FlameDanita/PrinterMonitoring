{
 "cells": [
  {
   "cell_type": "code",
   "execution_count": 2,
   "metadata": {},
   "outputs": [],
   "source": [
    "import os\n",
    "import subprocess\n",
    "import pandas as pd #pip install pandas\n",
    "import xlwt #pip install xlwt\n",
    "from openpyxl import load_workbook #pip install openpyxldd\n",
    "from tqdm import tqdm\n",
    "import datetime"
   ]
  },
  {
   "cell_type": "code",
   "execution_count": 3,
   "metadata": {},
   "outputs": [],
   "source": [
    "snmp_dir = \"C:/Users/Никита Широкопетлев/Documents/SnmpGet/\"\n",
    "def get_IOD(wb, ser):\n",
    "    IOD = {}\n",
    "    work_sheet_IOD = wb['IOD']\n",
    "    flag = False\n",
    "    counter = 0\n",
    "    for rows in work_sheet_IOD.iter_rows(values_only=True):\n",
    "        if rows[2] == ser[:2] and flag == False:\n",
    "            #print('Модель:', rows[1])\n",
    "            flag = True\n",
    "        elif flag == True and counter < 9:\n",
    "            if rows[0] and rows[0] != 'Модель':\n",
    "                IOD[rows[0]] = rows[1]\n",
    "            counter += 1\n",
    "    return IOD\n",
    "\n",
    "\n",
    "#def get_info_row(wb, row, cell_ser = 3, cell_IP = 2):\n",
    "#    return result\n",
    "\n",
    "def search_cell(name_cell, work_sheet):\n",
    "    for cell in range(1, 100):\n",
    "        if work_sheet.cell(row = 1, column = cell).value == name_cell:\n",
    "            break\n",
    "    print('Столбец \"', name_cell, '\": ', cell, sep = '')\n",
    "    return cell"
   ]
  },
  {
   "cell_type": "code",
   "execution_count": 4,
   "metadata": {},
   "outputs": [
    {
     "name": "stdout",
     "output_type": "stream",
     "text": [
      "['MAIN', 'IOD', 'AL75023437', 'CNB1L7J286', 'CNDRNBH78N', 'E75198L1N182781', 'E75373J7N556962', 'E75373J7N561816', 'E75373J7N561817', 'E75373J7N561836', 'VA87800338', 'VCF7538360', 'VCG8887941', 'VCG8X00618', 'VCG8Y01076', 'VCG9118770', 'ZDP1BJAF80005JJ', 'ZDP1BJFF9000RLT', 'ZDP1BJFF9000TJP', 'ZDP1BJFF9000VXY', 'ZDP1BJFF9000VYX', 'WVV11120']\n",
      "Столбец \"Серийный номер\": 2\n",
      "Столбец \"IP\": 3\n"
     ]
    }
   ],
   "source": [
    "wb = load_workbook('./printers.xlsx')\n",
    "print(wb.sheetnames)\n",
    "work_sheet = wb['MAIN']\n",
    "cell_ser = search_cell('Серийный номер', work_sheet) - 1\n",
    "cell_IP = search_cell('IP', work_sheet) - 1"
   ]
  },
  {
   "cell_type": "code",
   "execution_count": 5,
   "metadata": {},
   "outputs": [
    {
     "name": "stderr",
     "output_type": "stream",
     "text": [
      "1it [00:05,  5.97s/it]"
     ]
    },
    {
     "name": "stdout",
     "output_type": "stream",
     "text": [
      "{'Серийный номер принтера': '%Failed to get value of SNMP variable. Timeout.', 'Цвет тонера': '%Failed to get value of SNMP variable. Timeout.', 'Максимальное число копий тонера': '%Failed to get value of SNMP variable. Timeout.', 'Оставшееся число копий тонера': '%Failed to get value of SNMP variable. Timeout.', 'Кол-во напечатанных страниц': '%Failed to get value of SNMP variable. Timeout.', 'Название картриджа': '%Failed to get value of SNMP variable. Timeout.', 'Название принтера': '%Failed to get value of SNMP variable. Timeout.'}\n",
      "Printer CNB1L7J286 offline\n"
     ]
    },
    {
     "name": "stderr",
     "output_type": "stream",
     "text": [
      "3it [01:21, 30.42s/it]"
     ]
    },
    {
     "name": "stdout",
     "output_type": "stream",
     "text": [
      "{'Серийный номер принтера': '%Failed to get value of SNMP variable. Timeout.', 'Цвет тонера': '%Failed to get value of SNMP variable. Timeout.', 'Максимальное число копий тонера': '%Failed to get value of SNMP variable. Timeout.', 'Оставшееся число копий тонера': '%Failed to get value of SNMP variable. Timeout.', 'Кол-во напечатанных страниц': '%Failed to get value of SNMP variable. Timeout.', 'Название картриджа': '%Failed to get value of SNMP variable. Timeout.', 'Название принтера': '%Failed to get value of SNMP variable. Timeout.'}\n",
      "Printer CNDRNBH78N offline\n"
     ]
    },
    {
     "name": "stderr",
     "output_type": "stream",
     "text": [
      "5it [01:59, 25.27s/it]"
     ]
    },
    {
     "name": "stdout",
     "output_type": "stream",
     "text": [
      "{'Серийный номер принтера': '%Failed to get value of SNMP variable. Timeout.', 'Цвет тонера': '%Failed to get value of SNMP variable. Timeout.', 'Максимальное число копий тонера': '%Failed to get value of SNMP variable. Timeout.', 'Оставшееся число копий тонера': '%Failed to get value of SNMP variable. Timeout.', 'Кол-во напечатанных страниц': '%Failed to get value of SNMP variable. Timeout.', 'Название картриджа': '%Failed to get value of SNMP variable. Timeout.', 'Название принтера': '%Failed to get value of SNMP variable. Timeout.'}\n",
      "Printer E75373J7N556962 offline\n"
     ]
    },
    {
     "name": "stderr",
     "output_type": "stream",
     "text": [
      "9it [02:39, 17.29s/it]"
     ]
    },
    {
     "name": "stdout",
     "output_type": "stream",
     "text": [
      "{'Серийный номер принтера': '%Failed to get value of SNMP variable. Timeout.', 'Цвет тонера': '%Failed to get value of SNMP variable. Timeout.', 'Максимальное число копий тонера': '%Failed to get value of SNMP variable. Timeout.', 'Оставшееся число копий тонера': '%Failed to get value of SNMP variable. Timeout.', 'Кол-во напечатанных страниц': '%Failed to get value of SNMP variable. Timeout.', 'Название картриджа': '%Failed to get value of SNMP variable. Timeout.', 'Название принтера': '%Failed to get value of SNMP variable. Timeout.'}\n",
      "Printer VA87800338 offline\n"
     ]
    },
    {
     "name": "stderr",
     "output_type": "stream",
     "text": [
      "15it [03:22, 13.72s/it]"
     ]
    },
    {
     "name": "stdout",
     "output_type": "stream",
     "text": [
      "{'Серийный номер принтера': '%Failed to get value of SNMP variable. Timeout.', 'Цвет тонера': '%Failed to get value of SNMP variable. Timeout.', 'Максимальное число копий тонера': '%Failed to get value of SNMP variable. Timeout.', 'Оставшееся число копий тонера': '%Failed to get value of SNMP variable. Timeout.', 'Кол-во напечатанных страниц': '%Failed to get value of SNMP variable. Timeout.', 'Название картриджа': '%Failed to get value of SNMP variable. Timeout.', 'Название принтера': '%Failed to get value of SNMP variable. Timeout.'}\n",
      "Printer WVV11120 offline\n"
     ]
    },
    {
     "name": "stderr",
     "output_type": "stream",
     "text": [
      "19it [03:28, 10.97s/it]\n"
     ]
    },
    {
     "ename": "IndexError",
     "evalue": "list index out of range",
     "output_type": "error",
     "traceback": [
      "\u001b[1;31m---------------------------------------------------------------------------\u001b[0m",
      "\u001b[1;31mIndexError\u001b[0m                                Traceback (most recent call last)",
      "\u001b[1;32mc:\\Users\\Никита Широкопетлев\\Documents\\GitHub\\PrinterMonitoring\\refresh_main.ipynb Ячейка 4\u001b[0m in \u001b[0;36m<cell line: 3>\u001b[1;34m()\u001b[0m\n\u001b[0;32m      <a href='vscode-notebook-cell:/c%3A/Users/%D0%9D%D0%B8%D0%BA%D0%B8%D1%82%D0%B0%20%D0%A8%D0%B8%D1%80%D0%BE%D0%BA%D0%BE%D0%BF%D0%B5%D1%82%D0%BB%D0%B5%D0%B2/Documents/GitHub/PrinterMonitoring/refresh_main.ipynb#W3sZmlsZQ%3D%3D?line=1'>2</a>\u001b[0m current_sheet \u001b[39m=\u001b[39m \u001b[39m3\u001b[39m\n\u001b[0;32m      <a href='vscode-notebook-cell:/c%3A/Users/%D0%9D%D0%B8%D0%BA%D0%B8%D1%82%D0%B0%20%D0%A8%D0%B8%D1%80%D0%BE%D0%BA%D0%BE%D0%BF%D0%B5%D1%82%D0%BB%D0%B5%D0%B2/Documents/GitHub/PrinterMonitoring/refresh_main.ipynb#W3sZmlsZQ%3D%3D?line=2'>3</a>\u001b[0m \u001b[39mfor\u001b[39;00m row \u001b[39min\u001b[39;00m tqdm(work_sheet\u001b[39m.\u001b[39miter_rows(min_row\u001b[39m=\u001b[39m\u001b[39m2\u001b[39m, values_only\u001b[39m=\u001b[39m\u001b[39mTrue\u001b[39;00m)):\n\u001b[1;32m----> <a href='vscode-notebook-cell:/c%3A/Users/%D0%9D%D0%B8%D0%BA%D0%B8%D1%82%D0%B0%20%D0%A8%D0%B8%D1%80%D0%BE%D0%BA%D0%BE%D0%BF%D0%B5%D1%82%D0%BB%D0%B5%D0%B2/Documents/GitHub/PrinterMonitoring/refresh_main.ipynb#W3sZmlsZQ%3D%3D?line=4'>5</a>\u001b[0m     work_sheet_pr \u001b[39m=\u001b[39m wb[wb\u001b[39m.\u001b[39;49msheetnames[current_sheet]]\n\u001b[0;32m      <a href='vscode-notebook-cell:/c%3A/Users/%D0%9D%D0%B8%D0%BA%D0%B8%D1%82%D0%B0%20%D0%A8%D0%B8%D1%80%D0%BE%D0%BA%D0%BE%D0%BF%D0%B5%D1%82%D0%BB%D0%B5%D0%B2/Documents/GitHub/PrinterMonitoring/refresh_main.ipynb#W3sZmlsZQ%3D%3D?line=6'>7</a>\u001b[0m     \u001b[39mif\u001b[39;00m row[\u001b[39m0\u001b[39m]:\n\u001b[0;32m      <a href='vscode-notebook-cell:/c%3A/Users/%D0%9D%D0%B8%D0%BA%D0%B8%D1%82%D0%B0%20%D0%A8%D0%B8%D1%80%D0%BE%D0%BA%D0%BE%D0%BF%D0%B5%D1%82%D0%BB%D0%B5%D0%B2/Documents/GitHub/PrinterMonitoring/refresh_main.ipynb#W3sZmlsZQ%3D%3D?line=7'>8</a>\u001b[0m         \u001b[39mpass\u001b[39;00m\n",
      "\u001b[1;31mIndexError\u001b[0m: list index out of range"
     ]
    }
   ],
   "source": [
    "start_row = 2\n",
    "current_sheet = 3\n",
    "for row in tqdm(work_sheet.iter_rows(min_row=2, values_only=True)):\n",
    "    \n",
    "    work_sheet_pr = wb[wb.sheetnames[current_sheet]]\n",
    "\n",
    "    if row[0]:\n",
    "        pass\n",
    "    else:\n",
    "        break\n",
    "    result = []\n",
    "    IOD = {} \n",
    "    try:\n",
    "        IOD = get_IOD(wb, ser=row[cell_ser])\n",
    "        #print(IOD)\n",
    "        for key, value in IOD.items():\n",
    "            res = subprocess.check_output(\"./SnmpGet.exe -r:\" + str(row[cell_IP]) + \n",
    "                                      ' -o:' + value).decode(\"cp866\").split('\\n')\n",
    "            result.append(res[-2].split('=')[-1])\n",
    "            IOD[key] = str(res[-2].split('=')[-1]).strip('\\r')\n",
    "        #print(IOD)\n",
    "        #work_sheet_pr = wb[IOD['Серийный номер принтера']]\n",
    "        cur_row = 1\n",
    "        flag = False\n",
    "        for row_pr in work_sheet_pr.iter_rows(values_only=True):\n",
    "            if row_pr[0] in IOD:\n",
    "                try:\n",
    "                    work_sheet_pr.cell(row=cur_row, column=2).value = int(IOD[row_pr[0]])\n",
    "                except:\n",
    "                    work_sheet_pr.cell(row=cur_row, column=2).value = IOD[row_pr[0]]\n",
    "            \n",
    "            if row_pr[0] == 'Status':\n",
    "                work_sheet_pr.cell(row=cur_row, column=2).value = 'online'\n",
    "            if flag:\n",
    "                \n",
    "                try:\n",
    "                    tmp = str(row_pr[0].split()[0])\n",
    "                except:\n",
    "                    tmp = row_pr[0]\n",
    "                    #print(type(tmp))\n",
    "                \n",
    "                if tmp == str(datetime.datetime.now().strftime(\"%d.%m.%Y\")) or not tmp:\n",
    "                    #print(IOD)\n",
    "                    work_sheet_pr.cell(row=cur_row, column=1).value = str(datetime.datetime.now().strftime(\"%d.%m.%Y\"))\n",
    "                    work_sheet_pr.cell(row=cur_row, column=2).value = int(IOD['Оставшееся число копий тонера'])/int(IOD['Максимальное число копий тонера'])\n",
    "                    work_sheet_pr.cell(row=cur_row, column=3).value = int(IOD['Кол-во напечатанных страниц'])\n",
    "                    flag = False\n",
    "\n",
    "            if row_pr[0] == 'Дата':\n",
    "                flag = True\n",
    "\n",
    "            cur_row += 1\n",
    "\n",
    "            \n",
    "    except:\n",
    "        work_sheet_pr = wb[wb.sheetnames[current_sheet]]\n",
    "        cur_row = 1\n",
    "        for row_pr in work_sheet_pr.iter_rows(values_only=True):\n",
    "            if row_pr[0] == 'Status':\n",
    "                if IOD['Серийный номер принтера'][0] == '%':\n",
    "                    work_sheet_pr.cell(row=cur_row, column=2).value = 'offline'\n",
    "                    print(IOD)\n",
    "                    print(\"Printer\", row[1], 'offline')\n",
    "                else:\n",
    "                    work_sheet_pr.cell(row=cur_row, column=2).value = 'failed'\n",
    "                    print(IOD)\n",
    "                    print(\"Printer\", row[1], 'failed')\n",
    "            cur_row += 1 \n",
    "\n",
    "    current_sheet += 1\n",
    "    "
   ]
  },
  {
   "cell_type": "code",
   "execution_count": 6,
   "metadata": {},
   "outputs": [],
   "source": [
    "wb.save('./printers.xlsx')"
   ]
  },
  {
   "cell_type": "code",
   "execution_count": null,
   "metadata": {},
   "outputs": [],
   "source": []
  }
 ],
 "metadata": {
  "kernelspec": {
   "display_name": "Python 3.10.5 64-bit (system)",
   "language": "python",
   "name": "python3"
  },
  "language_info": {
   "codemirror_mode": {
    "name": "ipython",
    "version": 3
   },
   "file_extension": ".py",
   "mimetype": "text/x-python",
   "name": "python",
   "nbconvert_exporter": "python",
   "pygments_lexer": "ipython3",
   "version": "3.10.5"
  },
  "orig_nbformat": 4,
  "vscode": {
   "interpreter": {
    "hash": "fd9daab5493c977fd6493be97d3e1f014be2bb979bfc5090355e6764feda3d70"
   }
  }
 },
 "nbformat": 4,
 "nbformat_minor": 2
}
