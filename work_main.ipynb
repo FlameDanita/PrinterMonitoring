{
 "cells": [
  {
   "cell_type": "code",
   "execution_count": 1,
   "metadata": {},
   "outputs": [],
   "source": [
    "import os\n",
    "import subprocess\n",
    "import pandas as pd #pip install pandas\n",
    "import xlwt #pip install xlwt\n",
    "from openpyxl import load_workbook #pip install openpyxldd"
   ]
  },
  {
   "cell_type": "code",
   "execution_count": null,
   "metadata": {},
   "outputs": [],
   "source": [
    "IOD = {\"Серийный номер принтера\": \"1.3.6.1.2.1.43.5.1.1.17.1\",\n",
    "            \"Цвет тонера\": \"1.3.6.1.2.1.43.12.1.1.4.1.1\",\n",
    "            \"Максимальное число копий тонера\": \"1.3.6.1.2.1.43.11.1.1.8.1.1\",\n",
    "            \"Оставшееся число копий тонера\": \"1.3.6.1.2.1.43.11.1.1.9.1.1\",\n",
    "            \"Кол-во напечатанных страниц\": \"1.3.6.1.2.1.43.10.2.1.4.1.1\"\n",
    "            }"
   ]
  },
  {
   "cell_type": "code",
   "execution_count": 14,
   "metadata": {},
   "outputs": [],
   "source": [
    "snmp_dir = \"C:/Users/Никита Широкопетлев/Documents/SnmpGet/\"\n",
    "def get_IOD(wb, ser):\n",
    "    IOD = {}\n",
    "    work_sheet = wb['IOD']\n",
    "    \n",
    "    return IOD\n",
    "\n",
    "\n",
    "def get_info_row(wb, row, cell_ser = 3, cell_IP = 2):\n",
    "    result = [] \n",
    "    IOD = get_IOD(wb, ser=row[cell_ser])\n",
    "    for key, value in IOD.items():\n",
    "        res = subprocess.check_output(snmp_dir + \"SnmpGet.exe -r:\" + str(row[cell_IP]) + \n",
    "                                      ' -o:' + value).decode(\"cp866\").split('\\n')\n",
    "        result.append(res[-2].split('=')[-1])\n",
    "    return result\n",
    "\n",
    "def search_cell(name_cell, work_sheet):\n",
    "    for cell_ser in range(1, 100):\n",
    "        if work_sheet.cell(row = 1, column = cell_ser).value == name_cell:\n",
    "            break\n",
    "    print('Столбец \"', name_cell, '\": ', cell_ser, sep = '')\n",
    "    return cell_ser"
   ]
  },
  {
   "cell_type": "code",
   "execution_count": 15,
   "metadata": {},
   "outputs": [
    {
     "name": "stdout",
     "output_type": "stream",
     "text": [
      "['MAIN', 'Sheet1', 'AL75023437', 'CNB1L7J286', 'VCF7538360', 'E75373J7N561836', 'VCG8Y01076', 'VCG9118770', 'VCG8887941', 'ZDP1BJFF9000RLT', 'Лист10']\n",
      "Столбец \"Серийный номер\": 2\n",
      "Столбец \"IP\": 3\n"
     ]
    }
   ],
   "source": [
    "wb = load_workbook('./printers.xlsx')\n",
    "print(wb.sheetnames)\n",
    "work_sheet = wb['MAIN']\n",
    "cell_ser = search_cell('Серийный номер', work_sheet)\n",
    "cell_IP = search_cell('IP', work_sheet)"
   ]
  },
  {
   "cell_type": "code",
   "execution_count": 41,
   "metadata": {},
   "outputs": [
    {
     "name": "stdout",
     "output_type": "stream",
     "text": [
      "['MAIN', 'Sheet1', 'AL75023437', 'CNB1L7J286', 'VCF7538360', 'E75373J7N561836', 'VCG8Y01076', 'VCG9118770', 'VCG8887941', 'ZDP1BJFF9000RLT', 'Лист10']\n",
      "Столбец серийных номеров: 2\n",
      "Столбец IP адресов: 3\n"
     ]
    }
   ],
   "source": [
    "start_row = 2\n",
    "cur_row = start_row\n",
    "for row in work_sheet.iter_rows(min_row=2, values_only=True):\n",
    "    try:\n",
    "        result = get_info_row(wb, row, cell_ser - 1 , cell_IP - 1)\n",
    "        work_sheet.cell(row=cur_row, column=4).value = int(result[3].strip())/int(result[2].strip())\n",
    "    except:\n",
    "        pass\n",
    "    cur_row += 1"
   ]
  },
  {
   "cell_type": "code",
   "execution_count": 43,
   "metadata": {},
   "outputs": [],
   "source": [
    "wb.save('./printers.xlsx')"
   ]
  },
  {
   "cell_type": "code",
   "execution_count": null,
   "metadata": {},
   "outputs": [],
   "source": []
  }
 ],
 "metadata": {
  "kernelspec": {
   "display_name": "Python 3.10.5 64-bit (system)",
   "language": "python",
   "name": "python3"
  },
  "language_info": {
   "codemirror_mode": {
    "name": "ipython",
    "version": 3
   },
   "file_extension": ".py",
   "mimetype": "text/x-python",
   "name": "python",
   "nbconvert_exporter": "python",
   "pygments_lexer": "ipython3",
   "version": "3.10.5"
  },
  "orig_nbformat": 4,
  "vscode": {
   "interpreter": {
    "hash": "fd9daab5493c977fd6493be97d3e1f014be2bb979bfc5090355e6764feda3d70"
   }
  }
 },
 "nbformat": 4,
 "nbformat_minor": 2
}
