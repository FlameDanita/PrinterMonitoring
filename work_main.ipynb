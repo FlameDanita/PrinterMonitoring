{
 "cells": [
  {
   "cell_type": "code",
   "execution_count": 1,
   "metadata": {},
   "outputs": [],
   "source": [
    "import os\n",
    "import subprocess\n",
    "import pandas as pd #pip install pandas\n",
    "import xlwt #pip install xlwt\n",
    "from openpyxl import load_workbook #pip install openpyxldd"
   ]
  },
  {
   "cell_type": "code",
   "execution_count": 2,
   "metadata": {},
   "outputs": [],
   "source": [
    "def get_info_row(row):\n",
    "    result = [] \n",
    "    IOD = {\"Серийный номер принтера\": \"1.3.6.1.2.1.43.5.1.1.17.1\",\n",
    "            \"Цвет тонера\": \"1.3.6.1.2.1.43.12.1.1.4.1.1\",\n",
    "            \"Максимальное число копий тонера\": \"1.3.6.1.2.1.43.11.1.1.8.1.1\",\n",
    "            \"Оставшееся число копий тонера\": \"1.3.6.1.2.1.43.11.1.1.9.1.1\",\n",
    "            \"Кол-во напечатанных страниц\": \"1.3.6.1.2.1.43.10.2.1.4.1.1\"\n",
    "            }\n",
    "    for key, value in IOD.items():\n",
    "        res = subprocess.check_output(snmp_dir + \"SnmpGet.exe -r:\" + str(row[2]) + \n",
    "                                      ' -o:' + value).decode(\"cp866\").split('\\n')\n",
    "        result.append(res[-2].split('=')[-1])\n",
    "    return result"
   ]
  },
  {
   "cell_type": "code",
   "execution_count": 3,
   "metadata": {},
   "outputs": [],
   "source": [
    "snmp_dir = \"C:/Users/Никита Широкопетлев/Documents/SnmpGet/\""
   ]
  },
  {
   "cell_type": "code",
   "execution_count": null,
   "metadata": {},
   "outputs": [],
   "source": [
    "wb = load_workbook('./printers.xlsx')\n",
    "work_sheet = wb.active # Get active sheet"
   ]
  },
  {
   "cell_type": "code",
   "execution_count": null,
   "metadata": {},
   "outputs": [],
   "source": [
    "start_row = 2\n",
    "cur_row = start_row\n",
    "for row in work_sheet.iter_rows(min_row=start_row, values_only=True): \n",
    "    #print(row[2])\n",
    "    result = get_info_row(row)\n",
    "    for col in range(5, 10):\n",
    "        work_sheet.cell(row=cur_row, column=col).value = result[col - 5].strip()\n",
    "    cur_row += 1"
   ]
  },
  {
   "cell_type": "code",
   "execution_count": null,
   "metadata": {},
   "outputs": [],
   "source": [
    "wb.save('./printers.xlsx')"
   ]
  }
 ],
 "metadata": {
  "kernelspec": {
   "display_name": "Python 3.10.5 64-bit (system)",
   "language": "python",
   "name": "python3"
  },
  "language_info": {
   "codemirror_mode": {
    "name": "ipython",
    "version": 3
   },
   "file_extension": ".py",
   "mimetype": "text/x-python",
   "name": "python",
   "nbconvert_exporter": "python",
   "pygments_lexer": "ipython3",
   "version": "3.10.5"
  },
  "orig_nbformat": 4,
  "vscode": {
   "interpreter": {
    "hash": "fd9daab5493c977fd6493be97d3e1f014be2bb979bfc5090355e6764feda3d70"
   }
  }
 },
 "nbformat": 4,
 "nbformat_minor": 2
}
