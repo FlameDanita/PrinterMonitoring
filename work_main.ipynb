{
 "cells": [
  {
   "cell_type": "code",
   "execution_count": 1,
   "metadata": {},
   "outputs": [],
   "source": [
    "import os\n",
    "import subprocess\n",
    "import pandas as pd #pip install pandas\n",
    "import xlwt #pip install xlwt\n",
    "from openpyxl import load_workbook #pip install openpyxldd\n",
    "from tqdm import tqdm\n",
    "import datetime"
   ]
  },
  {
   "cell_type": "code",
   "execution_count": 2,
   "metadata": {},
   "outputs": [],
   "source": [
    "snmp_dir = \"C:/Users/Никита Широкопетлев/Documents/SnmpGet/\"\n",
    "def get_IOD(wb, ser):\n",
    "    IOD = {}\n",
    "    work_sheet_IOD = wb['IOD']\n",
    "    flag = False\n",
    "    counter = 0\n",
    "    for rows in work_sheet_IOD.iter_rows(values_only=True):\n",
    "        if rows[2] == ser[:2] and flag == False:\n",
    "            #print('Модель:', rows[1])\n",
    "            flag = True\n",
    "        elif flag == True and counter < 9:\n",
    "            if rows[0] and rows[0] != 'Модель':\n",
    "                IOD[rows[0]] = rows[1]\n",
    "            counter += 1\n",
    "    return IOD\n",
    "\n",
    "\n",
    "#def get_info_row(wb, row, cell_ser = 3, cell_IP = 2):\n",
    "#    return result\n",
    "\n",
    "def search_cell(name_cell, work_sheet):\n",
    "    for cell in range(1, 100):\n",
    "        if work_sheet.cell(row = 1, column = cell).value == name_cell:\n",
    "            break\n",
    "    print('Столбец \"', name_cell, '\": ', cell, sep = '')\n",
    "    return cell"
   ]
  },
  {
   "cell_type": "code",
   "execution_count": 3,
   "metadata": {},
   "outputs": [
    {
     "name": "stdout",
     "output_type": "stream",
     "text": [
      "['temp', 'MAIN', 'IOD', 'AL75023437', 'CNB1L7J286', 'E75198L1N182781', 'E75373J7N561817', 'E75373J7N561836', 'VCF7538360', 'VCG8887941', 'VCG8Y01076', 'VCG9118770', 'ZDP1BJAF80005JJ', 'ZDP1BJFF9000RLT', 'ZDP1BJFF9000TJP', 'ZDP1BJFF9000VXY']\n",
      "Столбец \"Серийный номер\": 2\n",
      "Столбец \"IP\": 3\n"
     ]
    }
   ],
   "source": [
    "wb = load_workbook('./printers_v2.xlsx')\n",
    "print(wb.sheetnames)\n",
    "work_sheet = wb['MAIN']\n",
    "cell_ser = search_cell('Серийный номер', work_sheet) - 1\n",
    "cell_IP = search_cell('IP', work_sheet) - 1"
   ]
  },
  {
   "cell_type": "code",
   "execution_count": 4,
   "metadata": {},
   "outputs": [
    {
     "name": "stderr",
     "output_type": "stream",
     "text": [
      "13it [00:04,  3.24it/s]\n"
     ]
    }
   ],
   "source": [
    "start_row = 2\n",
    "for row in tqdm(work_sheet.iter_rows(min_row=2, values_only=True)):\n",
    "    result = [] \n",
    "    try:\n",
    "        IOD = get_IOD(wb, ser=row[cell_ser])\n",
    "        #print(IOD)\n",
    "        for key, value in IOD.items():\n",
    "            res = subprocess.check_output(snmp_dir + \"SnmpGet.exe -r:\" + str(row[cell_IP]) + \n",
    "                                      ' -o:' + value).decode(\"cp866\").split('\\n')\n",
    "            result.append(res[-2].split('=')[-1])\n",
    "            IOD[key] = str(res[-2].split('=')[-1]).strip('\\r')\n",
    "        #print(IOD)\n",
    "\n",
    "        work_sheet_pr = wb[IOD['Серийный номер принтера']]\n",
    "        cur_row = 1\n",
    "        flag = False\n",
    "        for row_pr in work_sheet_pr.iter_rows(values_only=True):\n",
    "            if row_pr[0] in IOD:\n",
    "                try:\n",
    "                    work_sheet_pr.cell(row=cur_row, column=2).value = int(IOD[row_pr[0]])\n",
    "                except:\n",
    "                    work_sheet_pr.cell(row=cur_row, column=2).value = IOD[row_pr[0]]\n",
    "            \n",
    "            if row_pr[0] == 'Дата проверки':\n",
    "                work_sheet_pr.cell(row=cur_row, column=2).value = datetime.datetime.now()\n",
    "\n",
    "            if flag and not row_pr[0]:\n",
    "                work_sheet_pr.cell(row=cur_row, column=1).value = str(datetime.datetime.now().strftime(\"%D %H:%M\"))\n",
    "                work_sheet_pr.cell(row=cur_row, column=2).value = int(IOD['Оставшееся число копий тонера'])/int(IOD['Максимальное число копий тонера'])\n",
    "                work_sheet_pr.cell(row=cur_row, column=3).value = int(IOD['Кол-во напечатанных страниц'])\n",
    "                flag = False\n",
    "\n",
    "            if row_pr[0] == 'Дата':\n",
    "                flag = True\n",
    "    \n",
    "            cur_row += 1\n",
    "    except:\n",
    "        print(IOD)\n",
    "        print(\"Printer\", row[1], 'failed')\n"
   ]
  },
  {
   "cell_type": "code",
   "execution_count": 5,
   "metadata": {},
   "outputs": [],
   "source": [
    "wb.save('./printers_v2.xlsx')"
   ]
  },
  {
   "cell_type": "code",
   "execution_count": null,
   "metadata": {},
   "outputs": [],
   "source": []
  }
 ],
 "metadata": {
  "kernelspec": {
   "display_name": "Python 3.10.5 64-bit (system)",
   "language": "python",
   "name": "python3"
  },
  "language_info": {
   "codemirror_mode": {
    "name": "ipython",
    "version": 3
   },
   "file_extension": ".py",
   "mimetype": "text/x-python",
   "name": "python",
   "nbconvert_exporter": "python",
   "pygments_lexer": "ipython3",
   "version": "3.10.5"
  },
  "orig_nbformat": 4,
  "vscode": {
   "interpreter": {
    "hash": "fd9daab5493c977fd6493be97d3e1f014be2bb979bfc5090355e6764feda3d70"
   }
  }
 },
 "nbformat": 4,
 "nbformat_minor": 2
}
