{
 "cells": [
  {
   "cell_type": "markdown",
   "metadata": {},
   "source": [
    "код запроса МФУ на наличине кол-ва тонора в % и выводить эту инфу в таблицу.\n",
    "обращение раз в сутки SMP-коды\n",
    "#10.2.124.242"
   ]
  },
  {
   "cell_type": "markdown",
   "metadata": {},
   "source": [
    "VNC3B37195 - серийник?"
   ]
  },
  {
   "cell_type": "code",
   "execution_count": 70,
   "metadata": {},
   "outputs": [],
   "source": [
    "import os\n",
    "import subprocess\n",
    "import pandas as pd #pip install pandas\n",
    "import xlwt #pip install xlwt\n",
    "from openpyxl import load_workbook #pip install openpyxldd"
   ]
  },
  {
   "cell_type": "code",
   "execution_count": 18,
   "metadata": {},
   "outputs": [
    {
     "name": "stdout",
     "output_type": "stream",
     "text": [
      "\n",
      "Обмен пакетами с 10.2.124.242 по с 32 байтами данных:\n",
      "Ответ от 10.2.124.64: Заданный узел недоступен.\n",
      "Ответ от 10.2.124.64: Заданный узел недоступен.\n",
      "Ответ от 10.2.124.64: Заданный узел недоступен.\n",
      "Ответ от 10.2.124.64: Заданный узел недоступен.\n",
      "\n",
      "Статистика Ping для 10.2.124.242:\n",
      "    Пакетов: отправлено = 4, получено = 4, потеряно = 0\n",
      "    (0% потерь)\n",
      "\n"
     ]
    }
   ],
   "source": [
    "hostname = \"10.2.124.242\"\n",
    "response = subprocess.check_output(\"ping \" + hostname)\n",
    "print(response.decode(\"cp866\"))"
   ]
  },
  {
   "cell_type": "code",
   "execution_count": 139,
   "metadata": {},
   "outputs": [],
   "source": [
    "snmp_dir = \"C:/Users/Никита Широкопетлев/Documents/SnmpGet/\"\n",
    "def get_info(printer):\n",
    "    #for key, value in printer.items():\n",
    "    #    print(key, ':', value)\n",
    "    IOD = {\"Серийный номер принтера\": \"1.3.6.1.2.1.43.5.1.1.17.1\",\n",
    "            \"Цвет тонера\": \"1.3.6.1.2.1.43.12.1.1.4.1.1\",\n",
    "            \"Максимальное число копий тонера\": \"1.3.6.1.2.1.43.11.1.1.8.1.1\",\n",
    "            \"Оставшееся число копий тонера\": \"1.3.6.1.2.1.43.11.1.1.9.1.1\",\n",
    "            \"Кол-во напечатанных страниц\": \"1.3.6.1.2.1.43.10.2.1.4.1.1\"\n",
    "            }\n",
    "    for key, value in IOD.items():\n",
    "        print(key + ':', end = ' ')\n",
    "        res = subprocess.check_output(snmp_dir + \"SnmpGet.exe -r:\" + printer['IP'] + \n",
    "                                      ' -o:' + value).decode(\"cp866\").split('\\n')\n",
    "        print(res[-2].split('=')[-1])\n",
    "    print()\n",
    "\n",
    "def get_info_row(row):\n",
    "    result = [] \n",
    "    IOD = {\"Серийный номер принтера\": \"1.3.6.1.2.1.43.5.1.1.17.1\",\n",
    "            \"Цвет тонера\": \"1.3.6.1.2.1.43.12.1.1.4.1.1\",\n",
    "            \"Максимальное число копий тонера\": \"1.3.6.1.2.1.43.11.1.1.8.1.1\",\n",
    "            \"Оставшееся число копий тонера\": \"1.3.6.1.2.1.43.11.1.1.9.1.1\",\n",
    "            \"Кол-во напечатанных страниц\": \"1.3.6.1.2.1.43.10.2.1.4.1.1\"\n",
    "            }\n",
    "    for key, value in IOD.items():\n",
    "        res = subprocess.check_output(snmp_dir + \"SnmpGet.exe -r:\" + str(row[2]) + \n",
    "                                      ' -o:' + value).decode(\"cp866\").split('\\n')\n",
    "        result.append(res[-2].split('=')[-1])\n",
    "    return result\n",
    "    "
   ]
  },
  {
   "cell_type": "code",
   "execution_count": 56,
   "metadata": {},
   "outputs": [],
   "source": [
    "printers = [\n",
    "    {'name': 'MC853-VENERA', 'model': 'MC853 (JC-HTTPD 1.12.16)', 'IP': '10.2.126.1', 'room': 'NA'},\n",
    "    {'name': 'KM33F7E9', 'model': 'Kyocera MFP httpd 0.0.1', 'IP': '10.2.125.23', 'room': 'NA'},\n",
    "    {'name': 'BRN3C2AF42EF755', 'model': 'Brother DCP-L5500DN', 'IP': '10.2.124.253', 'room': 'NA'},\n",
    "    {'name': 'M2540dn-514kab', 'model': 'Kyocera MFP httpd 0.0.1', 'IP': '10.2.124.208', 'room': '514'},\n",
    "    {'name': 'KM7B9F0D', 'model': 'Kyocera MFP httpd 0.0.1', 'IP': '10.2.124.199', 'room': 'NA'},\n",
    "    {'name': 'KM767774', 'model': 'Kyocera MFP httpd 0.0.1', 'IP': '10.2.124.172', 'room': 'NA'},\n",
    "    {'name': 'SEC30CDA737D7A3', 'model': 'Samsung M337x 407x', 'IP': '10.2.124.132', 'room': 'NA'},\n",
    "    {'name': 'SEC30CDA737D7BF', 'model': 'Samsung M337x 407x', 'IP': '10.2.124.58', 'room': 'NA'},\n",
    "    {'name': 'BRNB422005D0F93', 'model': 'Brother MFC-L2700DN', 'IP': '10.2.124.57', 'room': 'NA'},\n",
    "    {'name': 'BRN3C2AF42EF82D', 'model': 'Brother DCP-L5500DN', 'IP': '10.2.124.56', 'room': 'NA'},\n",
    "    {'name': 'SEC30CDA73402B9', 'model': 'Samsung M337x', 'IP': '10.2.124.45', 'room': 'NA'},\n",
    "    {'name': 'SEC30CDA737D7DA', 'model': 'Samsung M337x', 'IP': '10.2.124.15', 'room': '202'},\n",
    "    {'name': 'KONTRAK', 'model': 'HP LaserJet MFP M435nda', 'IP': '10.2.124.4', 'room': 'NA'}\n",
    "    ]"
   ]
  },
  {
   "cell_type": "code",
   "execution_count": 132,
   "metadata": {},
   "outputs": [
    {
     "name": "stdout",
     "output_type": "stream",
     "text": [
      "Серийный номер принтера: AL75023437\n",
      "Цвет тонера: black\n",
      "Максимальное число копий тонера: 100\n",
      "Оставшееся число копий тонера: 39\n",
      "Кол-во напечатанных страниц: 39321\n",
      "\n",
      "Серийный номер принтера: VCF7538360\n",
      "Цвет тонера: black\n",
      "Максимальное число копий тонера: 7200\n",
      "Оставшееся число копий тонера: 3960\n",
      "Кол-во напечатанных страниц: 12121\n",
      "\n",
      "Серийный номер принтера: E75373J7N561836\n",
      "Цвет тонера: black\n",
      "Максимальное число копий тонера: -2\n",
      "Оставшееся число копий тонера: -3\n",
      "Кол-во напечатанных страниц: 6444\n",
      "\n",
      "Серийный номер принтера: VCG8Y01076\n",
      "Цвет тонера: black\n",
      "Максимальное число копий тонера: 7200\n",
      "Оставшееся число копий тонера: 2160\n",
      "Кол-во напечатанных страниц: 10094\n",
      "\n",
      "Серийный номер принтера: VCG9118770\n",
      "Цвет тонера: black\n",
      "Максимальное число копий тонера: 3600\n",
      "Оставшееся число копий тонера: 2556\n",
      "Кол-во напечатанных страниц: 783\n",
      "\n",
      "Серийный номер принтера: VCG8887941\n",
      "Цвет тонера: black\n",
      "Максимальное число копий тонера: 7200\n",
      "Оставшееся число копий тонера: 4680\n",
      "Кол-во напечатанных страниц: 15148\n",
      "\n",
      "Серийный номер принтера: ZDP1BJFF9000RLT\n",
      "Цвет тонера: Black\n",
      "Максимальное число копий тонера: 10000\n",
      "Оставшееся число копий тонера: 3200\n",
      "Кол-во напечатанных страниц: 24620\n",
      "\n",
      "Серийный номер принтера: ZDP1BJFF9000TJP\n",
      "Цвет тонера: Black\n",
      "Максимальное число копий тонера: 10000\n",
      "Оставшееся число копий тонера: 200\n",
      "Кол-во напечатанных страниц: 60604\n",
      "\n",
      "Серийный номер принтера: E75198L1N182781\n",
      "Цвет тонера: black\n",
      "Максимальное число копий тонера: -2\n",
      "Оставшееся число копий тонера: -3\n",
      "Кол-во напечатанных страниц: 330\n",
      "\n",
      "Серийный номер принтера: E75373J7N561817\n",
      "Цвет тонера: black\n",
      "Максимальное число копий тонера: -2\n",
      "Оставшееся число копий тонера: -3\n",
      "Кол-во напечатанных страниц: 17574\n",
      "\n",
      "Серийный номер принтера: ZDP1BJAF80005JJ\n",
      "Цвет тонера: %Failed to get value of SNMP variable. Timeout.\n",
      "Максимальное число копий тонера: 10000\n",
      "Оставшееся число копий тонера: 0\n",
      "Кол-во напечатанных страниц: 54738\n",
      "\n",
      "Серийный номер принтера: ZDP1BJFF9000VXY\n",
      "Цвет тонера: Black\n",
      "Максимальное число копий тонера: 10000\n",
      "Оставшееся число копий тонера: 3400\n",
      "Кол-во напечатанных страниц: 41331\n",
      "\n",
      "Серийный номер принтера: CNB1L7J286\n",
      "Цвет тонера: Black\n",
      "Максимальное число копий тонера: 100\n",
      "Оставшееся число копий тонера: 39\n",
      "Кол-во напечатанных страниц: 33722\n",
      "\n"
     ]
    }
   ],
   "source": [
    "for printer in printers:\n",
    "  get_info(printer)"
   ]
  },
  {
   "cell_type": "code",
   "execution_count": 101,
   "metadata": {},
   "outputs": [],
   "source": [
    "df = pd.DataFrame(printers)  # transpose to look just like the sheet above\n",
    "df.to_excel('printers.xlsx', startcol=0)"
   ]
  },
  {
   "cell_type": "code",
   "execution_count": 156,
   "metadata": {},
   "outputs": [],
   "source": [
    "wb = load_workbook('./printers.xlsx')\n",
    "work_sheet = wb.active # Get active sheet"
   ]
  },
  {
   "cell_type": "code",
   "execution_count": 157,
   "metadata": {},
   "outputs": [],
   "source": [
    "start_row = 2\n",
    "cur_row = start_row\n",
    "for row in work_sheet.iter_rows(min_row=start_row, values_only=True): \n",
    "    #print(row[2])\n",
    "    result = get_info_row(row)\n",
    "    for col in range(5, 10):\n",
    "        work_sheet.cell(row=cur_row, column=col).value = result[col - 5].strip()\n",
    "    cur_row += 1"
   ]
  },
  {
   "cell_type": "code",
   "execution_count": 158,
   "metadata": {},
   "outputs": [],
   "source": [
    "wb.save('./printers.xlsx')"
   ]
  },
  {
   "cell_type": "code",
   "execution_count": null,
   "metadata": {},
   "outputs": [],
   "source": []
  }
 ],
 "metadata": {
  "kernelspec": {
   "display_name": "Python 3.10.5 64-bit (system)",
   "language": "python",
   "name": "python3"
  },
  "language_info": {
   "codemirror_mode": {
    "name": "ipython",
    "version": 3
   },
   "file_extension": ".py",
   "mimetype": "text/x-python",
   "name": "python",
   "nbconvert_exporter": "python",
   "pygments_lexer": "ipython3",
   "version": "3.10.5"
  },
  "orig_nbformat": 4,
  "vscode": {
   "interpreter": {
    "hash": "fd9daab5493c977fd6493be97d3e1f014be2bb979bfc5090355e6764feda3d70"
   }
  }
 },
 "nbformat": 4,
 "nbformat_minor": 2
}
