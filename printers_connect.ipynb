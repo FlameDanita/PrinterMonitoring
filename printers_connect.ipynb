{
 "cells": [
  {
   "cell_type": "markdown",
   "metadata": {},
   "source": [
    "код запроса МФУ на наличине кол-ва тонора в % и выводить эту инфу в таблицу.\n",
    "обращение раз в сутки SMP-коды\n",
    "#10.2.124.242"
   ]
  },
  {
   "cell_type": "markdown",
   "metadata": {},
   "source": [
    "VNC3B37195 - серийник?"
   ]
  },
  {
   "cell_type": "code",
   "execution_count": 1,
   "metadata": {},
   "outputs": [],
   "source": [
    "import os\n",
    "import subprocess"
   ]
  },
  {
   "cell_type": "code",
   "execution_count": 2,
   "metadata": {},
   "outputs": [
    {
     "name": "stdout",
     "output_type": "stream",
     "text": [
      "\n",
      "Обмен пакетами с 10.2.124.242 по с 32 байтами данных:\n",
      "Ответ от 10.2.124.242: число байт=32 время<1мс TTL=255\n",
      "Ответ от 10.2.124.242: число байт=32 время<1мс TTL=255\n",
      "Ответ от 10.2.124.242: число байт=32 время<1мс TTL=255\n",
      "Ответ от 10.2.124.242: число байт=32 время<1мс TTL=255\n",
      "\n",
      "Статистика Ping для 10.2.124.242:\n",
      "    Пакетов: отправлено = 4, получено = 4, потеряно = 0\n",
      "    (0% потерь)\n",
      "Приблизительное время приема-передачи в мс:\n",
      "    Минимальное = 0мсек, Максимальное = 0 мсек, Среднее = 0 мсек\n",
      "\n"
     ]
    }
   ],
   "source": [
    "hostname = \"10.2.124.242\"\n",
    "response = subprocess.check_output(\"ping \" + hostname)\n",
    "print(response.decode(\"cp866\"))"
   ]
  },
  {
   "cell_type": "code",
   "execution_count": 8,
   "metadata": {},
   "outputs": [],
   "source": [
    "snmp_dir = \"C:/Users/Никита Широкопетлев/Documents/SnmpGet/\"\n",
    "def get_info(printer):\n",
    "    for key, value in printer.items():\n",
    "        print(key, ':', value)\n",
    "    if printer['model'] == 'HP':\n",
    "        IOD = {\"Серийный номер принтера\": \"1.3.6.1.2.1.43.5.1.1.17.1\",\n",
    "               \"Цвет тонера\": \"1.3.6.1.2.1.43.12.1.1.4.1.1\",\n",
    "               \"Максимальное число копий тонера\": \"1.3.6.1.2.1.43.11.1.1.8.1.1\",\n",
    "               \"Оставшееся число копий тонера\": \"1.3.6.1.2.1.43.11.1.1.9.1.1\",\n",
    "               \"Кол-во напечатанных страниц\": \"1.3.6.1.2.1.43.10.2.1.4.1.1\"\n",
    "               }\n",
    "        for key, value in IOD.items():\n",
    "            print(key + ':', end = ' ')\n",
    "            #res = subprocess.check_output(snmp_dir + \n",
    "            #    \"snmpwalk.exe -r:\" + printer['IP'] +\n",
    "            #    ' -os:' + value[:-1] + '0' + ' -op:' + value + \" -csv\").decode(\"cp866\")\n",
    "            res = subprocess.check_output(snmp_dir + \"SnmpGet.exe -r:\" + printer['IP'] + \n",
    "                                          ' -o:' + value).decode(\"cp866\").split('\\n')\n",
    "            print(res[-2].split('=')[-1])\n",
    "    elif printer['model'] == 'Samsung':\n",
    "        IOD = {\"Серийный номер принтера\": \"1.3.6.1.2.1.43.5.1.1.17.1\",\n",
    "               \"Цвет тонера\": \"1.3.6.1.2.1.43.12.1.1.4.1.1\",\n",
    "               \"Максимальное число копий тонера\": \"1.3.6.1.2.1.43.11.1.1.8.1.1\",\n",
    "               \"Оставшееся число копий тонера\": \"1.3.6.1.2.1.43.11.1.1.9.1.1\",\n",
    "               \"Кол-во напечатанных страниц\": \"1.3.6.1.2.1.43.10.2.1.4.1.1\"\n",
    "               }\n",
    "        for key, value in IOD.items():\n",
    "            print(key + ':', end = ' ')\n",
    "            #res = subprocess.check_output(snmp_dir + \n",
    "            #    \"snmpwalk.exe -r:\" + printer['IP'] +\n",
    "            #    ' -os:' + value[:-1] + '0' + ' -op:' + value + \" -csv\").decode(\"cp866\")\n",
    "            res = subprocess.check_output(snmp_dir + \"SnmpGet.exe -r:\" + printer['IP'] + \n",
    "                                          ' -o:' + value).decode(\"cp866\").split('\\n')\n",
    "            print(res[-2].split('=')[-1])\n",
    "    else:\n",
    "        pass"
   ]
  },
  {
   "cell_type": "code",
   "execution_count": 9,
   "metadata": {},
   "outputs": [
    {
     "name": "stdout",
     "output_type": "stream",
     "text": [
      "model : _HP\n",
      "IP : 10.2.124.242\n",
      "model : Samsung\n",
      "IP : 10.2.124.15\n",
      "Серийный номер принтера: ZDP1BJFF9000VXY\n",
      "Цвет тонера: Black\n",
      "Максимальное число копий тонера: 10000\n",
      "Оставшееся число копий тонера: 3400\n",
      "Кол-во напечатанных страниц: 41331\n"
     ]
    }
   ],
   "source": [
    "printers = [{'model': '_HP',\n",
    "           'IP': '10.2.124.242'}\n",
    "           , {'model': 'Samsung',\n",
    "           'IP': '10.2.124.15'}]\n",
    "for printer in printers:\n",
    "    get_info(printer)"
   ]
  },
  {
   "cell_type": "code",
   "execution_count": null,
   "metadata": {},
   "outputs": [],
   "source": []
  }
 ],
 "metadata": {
  "kernelspec": {
   "display_name": "Python 3.10.5 64-bit (system)",
   "language": "python",
   "name": "python3"
  },
  "language_info": {
   "codemirror_mode": {
    "name": "ipython",
    "version": 3
   },
   "file_extension": ".py",
   "mimetype": "text/x-python",
   "name": "python",
   "nbconvert_exporter": "python",
   "pygments_lexer": "ipython3",
   "version": "3.10.5"
  },
  "orig_nbformat": 4,
  "vscode": {
   "interpreter": {
    "hash": "fd9daab5493c977fd6493be97d3e1f014be2bb979bfc5090355e6764feda3d70"
   }
  }
 },
 "nbformat": 4,
 "nbformat_minor": 2
}
